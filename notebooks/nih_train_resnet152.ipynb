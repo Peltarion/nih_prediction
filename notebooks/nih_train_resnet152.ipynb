{
 "cells": [
  {
   "cell_type": "code",
   "execution_count": 1,
   "metadata": {},
   "outputs": [],
   "source": [
    "import os\n",
    "\n",
    "import matplotlib.pyplot as plt\n",
    "import numpy as np\n",
    "import pandas as pd\n",
    "import tensorflow as tf\n",
    "import tensorflow.contrib.slim as slim\n",
    "import tensorflow.contrib.slim.nets\n",
    "import tqdm"
   ]
  },
  {
   "cell_type": "code",
   "execution_count": 2,
   "metadata": {},
   "outputs": [],
   "source": [
    "sess = tf.Session()"
   ]
  },
  {
   "cell_type": "markdown",
   "metadata": {},
   "source": [
    "# Loading NIH metadata"
   ]
  },
  {
   "cell_type": "markdown",
   "metadata": {},
   "source": [
    "## Raw Metadata"
   ]
  },
  {
   "cell_type": "code",
   "execution_count": 3,
   "metadata": {},
   "outputs": [],
   "source": [
    "path = '/mnt/storage/data/nih-chest-xrays/'\n",
    "raw_data = pd.read_csv(os.path.join(path, 'Data_Entry_2017.csv'))"
   ]
  },
  {
   "cell_type": "markdown",
   "metadata": {},
   "source": [
    "## Extract paths and labels"
   ]
  },
  {
   "cell_type": "code",
   "execution_count": 4,
   "metadata": {},
   "outputs": [],
   "source": [
    "data = raw_data[['Image Index', 'Finding Labels']].copy()\n",
    "data.columns = ['image', 'label']\n",
    "data.image = os.path.join(path, 'images/') + data.image\n",
    "data = data.sample(frac=1)"
   ]
  },
  {
   "cell_type": "markdown",
   "metadata": {},
   "source": [
    "## Produce a binary matrix of labels"
   ]
  },
  {
   "cell_type": "code",
   "execution_count": 5,
   "metadata": {},
   "outputs": [],
   "source": [
    "encoded_labels = data.label.str.get_dummies(sep='|').sort_index(axis=1)"
   ]
  },
  {
   "cell_type": "markdown",
   "metadata": {},
   "source": [
    "# Read data from Dataset"
   ]
  },
  {
   "cell_type": "markdown",
   "metadata": {},
   "source": [
    "## Load individual items directly from metadata"
   ]
  },
  {
   "cell_type": "code",
   "execution_count": 6,
   "metadata": {},
   "outputs": [],
   "source": [
    "dataset = tf.data.Dataset.from_tensor_slices({\n",
    "    'index': data.index,\n",
    "    'path': data['image'].values,\n",
    "    'label': encoded_labels.values.astype(np.float32)\n",
    "})"
   ]
  },
  {
   "cell_type": "markdown",
   "metadata": {},
   "source": [
    "## Read and decode the corresponding image files"
   ]
  },
  {
   "cell_type": "code",
   "execution_count": 7,
   "metadata": {},
   "outputs": [],
   "source": [
    "def read_file(item):\n",
    "    #item['path'] = tf.Print(item['path'], [item['path']], 'path: ')\n",
    "    item['image'] = tf.read_file(item['path'])\n",
    "    return item\n",
    "\n",
    "def decode_image(item):\n",
    "    decoded = tf.image.decode_image(item['image'])\n",
    "    item['image'] = tf.image.convert_image_dtype(decoded, tf.float32)\n",
    "    # All images are B&W, but some seem to have the channel replicated,\n",
    "    # to avoid issues we simply select the first channel\n",
    "    item['image'] = tf.expand_dims(item['image'][:, :, 0], axis=-1)\n",
    "    item['image'].set_shape([None, None, 1])\n",
    "    return item\n",
    "\n",
    "dataset = dataset.map(lambda item: decode_image(read_file(item)), num_parallel_calls=32)"
   ]
  },
  {
   "cell_type": "markdown",
   "metadata": {},
   "source": [
    "## Prepare data for training"
   ]
  },
  {
   "cell_type": "code",
   "execution_count": 8,
   "metadata": {},
   "outputs": [],
   "source": [
    "batch_size = 12\n",
    "\n",
    "dataset = dataset.shuffle(100)\n",
    "dataset = dataset.batch(batch_size)\n",
    "dataset = dataset.repeat()  # repeat indefinitely (reshuffled each time)\n",
    "\n",
    "iterator = dataset.make_one_shot_iterator()\n",
    "batch = iterator.get_next()"
   ]
  },
  {
   "cell_type": "markdown",
   "metadata": {},
   "source": [
    "## Build model"
   ]
  },
  {
   "cell_type": "code",
   "execution_count": 9,
   "metadata": {},
   "outputs": [],
   "source": [
    "def build_model(images, labels, reuse):\n",
    "    # Create a new head with sigmoids instead of softmax applied to the logits\n",
    "    _, resnet = tf.contrib.slim.nets.resnet_v2.resnet_v2_152(\n",
    "        images, num_classes=labels.shape[-1], reuse=reuse\n",
    "    )\n",
    "    logits = tf.squeeze(resnet['resnet_v2_152/logits'], axis=[1, 2])\n",
    "    predictions = tf.sigmoid(logits)\n",
    "    return tf.losses.sigmoid_cross_entropy(labels, logits)\n",
    "\n",
    "\n",
    "gpus = range(0, 4)\n",
    "batch_slice_size = batch_size // len(gpus)\n",
    "losses = list()\n",
    "for gpu in gpus:\n",
    "    i_start = batch_slice_size * gpu\n",
    "    gpu_slice = slice(i_start, i_start + batch_slice_size)\n",
    "    \n",
    "    # Place operations on a GPU and variables on the CPU\n",
    "    with tf.device('/gpu:%d' % gpu):\n",
    "        with tf.name_scope('tower_%d' % gpu) as scope:\n",
    "            with slim.arg_scope([slim.model_variable, slim.variable], device='/cpu:0'):\n",
    "                losses.append(build_model(\n",
    "                    batch['image'][gpu_slice],\n",
    "                    batch['label'][gpu_slice],\n",
    "                    gpu > 0\n",
    "                ))\n",
    "\n",
    "with tf.device('/cpu:0'):\n",
    "    loss = tf.add_n(losses)\n",
    "\n",
    "optimizer = tf.train.AdamOptimizer()\n",
    "train_op = optimizer.minimize(loss, colocate_gradients_with_ops=True)"
   ]
  },
  {
   "cell_type": "markdown",
   "metadata": {},
   "source": [
    "## Initialize and start training"
   ]
  },
  {
   "cell_type": "code",
   "execution_count": 10,
   "metadata": {},
   "outputs": [],
   "source": [
    "sess.run(tf.global_variables_initializer())"
   ]
  },
  {
   "cell_type": "code",
   "execution_count": null,
   "metadata": {},
   "outputs": [],
   "source": [
    "for epoch in range(100):\n",
    "    print('Epoch %d' % epoch)\n",
    "    tq = tqdm.trange(len(data) // batch_size, unit='batch', smoothing=1)\n",
    "    for i in tq:\n",
    "        batch_loss, _ = sess.run([loss, train_op])\n",
    "        tq.set_description('loss: %.3f' % batch_loss)"
   ]
  }
 ],
 "metadata": {
  "kernelspec": {
   "display_name": "Python 3",
   "language": "python",
   "name": "python3"
  },
  "language_info": {
   "codemirror_mode": {
    "name": "ipython",
    "version": 3
   },
   "file_extension": ".py",
   "mimetype": "text/x-python",
   "name": "python",
   "nbconvert_exporter": "python",
   "pygments_lexer": "ipython3",
   "version": "3.5.2"
  }
 },
 "nbformat": 4,
 "nbformat_minor": 2
}
